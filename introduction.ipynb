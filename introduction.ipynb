{
  "nbformat": 4,
  "nbformat_minor": 0,
  "metadata": {
    "colab": {
      "private_outputs": true,
      "provenance": [],
      "authorship_tag": "ABX9TyOWn41CD04120vV5OAih7rp",
      "include_colab_link": true
    },
    "kernelspec": {
      "name": "python3",
      "display_name": "Python 3"
    },
    "language_info": {
      "name": "python"
    }
  },
  "cells": [
    {
      "cell_type": "markdown",
      "metadata": {
        "id": "view-in-github",
        "colab_type": "text"
      },
      "source": [
        "<a href=\"https://colab.research.google.com/github/Jana9042339027/Password-generator-/blob/main/introduction.ipynb\" target=\"_parent\"><img src=\"https://colab.research.google.com/assets/colab-badge.svg\" alt=\"Open In Colab\"/></a>"
      ]
    },
    {
      "cell_type": "markdown",
      "source": [
        "pandas"
      ],
      "metadata": {
        "id": "vjrORiBO_YM5"
      }
    },
    {
      "cell_type": "code",
      "execution_count": null,
      "metadata": {
        "id": "aOrGyDdO7_N4"
      },
      "outputs": [],
      "source": [
        "import pandas as pd\n",
        "\n",
        "mylist = [50,100,150,200,250,300]\n",
        "\n",
        "res = pd.Series(mylist)\n",
        "\n",
        "print(\"Series = \\n\",res)"
      ]
    },
    {
      "cell_type": "markdown",
      "source": [
        "**NUMPY**"
      ],
      "metadata": {
        "id": "JYXtlKbIBbov"
      }
    },
    {
      "cell_type": "code",
      "source": [
        "import numpy as np\n",
        "\n",
        "arr = np.array((1,2,3))\n",
        "print(\"Array =\",arr)\n",
        "\n",
        "print(type(arr))"
      ],
      "metadata": {
        "id": "Q9ltuPnzBgm5"
      },
      "execution_count": null,
      "outputs": []
    },
    {
      "cell_type": "markdown",
      "source": [
        "*MATPLOTLIB*"
      ],
      "metadata": {
        "id": "TC4p5sBKCcar"
      }
    },
    {
      "cell_type": "code",
      "source": [
        "import matplotlib.pyplot as plt\n",
        "import numpy as np\n",
        "\n",
        "xpts = np.array ([0,4])\n",
        "ypts = np.array ([0,100])\n",
        "\n",
        "plt.plot(xpts,ypts)\n",
        "plt.show()\n",
        "\n"
      ],
      "metadata": {
        "id": "RXHohtQmClXf"
      },
      "execution_count": null,
      "outputs": []
    },
    {
      "cell_type": "markdown",
      "source": [
        " ****"
      ],
      "metadata": {
        "id": "3wfgqvntEOmR"
      }
    }
  ]
}